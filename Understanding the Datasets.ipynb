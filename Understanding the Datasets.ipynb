{
 "cells": [
  {
   "cell_type": "code",
   "execution_count": 1,
   "id": "4a0ff0cb",
   "metadata": {},
   "outputs": [],
   "source": [
    "import seaborn as sb\n",
    "from matplotlib import pyplot as plt\n",
    "import numpy as np\n",
    "\n",
    "from utils import (\n",
    "    DATASETS,\n",
    "    load_data,\n",
    "    encode_token,\n",
    "    write_data,\n",
    "    remove_features_in_test_and_not_in_training,\n",
    "    decode_enc_tokens,\n",
    ")"
   ]
  },
  {
   "cell_type": "code",
   "execution_count": 2,
   "id": "66c8d182",
   "metadata": {},
   "outputs": [
    {
     "data": {
      "text/plain": [
       "['ES', 'RU']"
      ]
     },
     "execution_count": 2,
     "metadata": {},
     "output_type": "execute_result"
    }
   ],
   "source": [
    "DATASETS"
   ]
  },
  {
   "cell_type": "code",
   "execution_count": 3,
   "id": "d5cdca21",
   "metadata": {},
   "outputs": [],
   "source": [
    "def visualiseData(dataset, n = 10):\n",
    "    feat_train, label_train = load_data(path=f\"{dataset}/train\")\n",
    "    feat_in, _ = load_data(path=f\"{dataset}/dev.in\")\n",
    "\n",
    "    feat_train_encoded, feat_map = encode_token(tokens=feat_train)\n",
    "    label_train_encoded, label_map = encode_token(tokens=label_train)\n",
    "    \n",
    "    feat_in_cleaned = remove_features_in_test_and_not_in_training(\n",
    "            features_test=feat_in, features_training=feat_train\n",
    "        )\n",
    "    feat_in_encoded, _ = encode_token(tokens=feat_in_cleaned, token_map=feat_map)\n",
    "    \n",
    "    print(f'Reading the {dataset} dataset....')\n",
    "    \n",
    "    print('\\n----------Summary Statistics----------')\n",
    "    print('Number of train data points:', len(feat_train))\n",
    "    print('Number of dev.in data points:', len(feat_in))\n",
    "    \n",
    "    print(f'\\nOverview of the first {n} datapoints')\n",
    "\n",
    "    print('\\n----------Train Data----------')\n",
    "    for i,j in zip(feat_train[:n], label_train[:n]):\n",
    "        print(i)\n",
    "        print(j, '\\n')\n",
    "        \n",
    "    print('----------dev.in Data----------')\n",
    "    for i in feat_in[:n]:\n",
    "        print(i)\n",
    "    \n",
    "    print('\\n----------dev.in Label Map----------')\n",
    "    print(label_map)\n",
    "    \n",
    "    print('\\n----------Train Data Feature Map----------')\n",
    "    print(list(feat_map)[:n])\n",
    "    \n",
    "    print('\\n----------Encoded Train Data----------')\n",
    "    for i in feat_train_encoded[:n]:\n",
    "        print(i)\n",
    "        \n",
    "    print('\\n----------Cleaned Data----------')\n",
    "    for i in feat_in_cleaned[:n]:\n",
    "        print(i)\n",
    "        \n",
    "    print('\\n----------Number of Labels in the Entire Dataset----------')\n",
    "    # Count labels\n",
    "    print()\n",
    "    label_count_dict = {}\n",
    "    for i in label_train:\n",
    "        for j in i:\n",
    "            if j not in label_count_dict:\n",
    "                label_count_dict[j] = 0\n",
    "            else:\n",
    "                label_count_dict[j] += 1\n",
    "    print(label_count_dict)\n",
    "    \n",
    "    del label_count_dict['O']\n",
    "    plt.bar(label_count_dict.keys(), label_count_dict.values())\n",
    "    plt.xticks(rotation=90)"
   ]
  },
  {
   "cell_type": "markdown",
   "id": "01271125",
   "metadata": {},
   "source": [
    "## ES Dataset"
   ]
  },
  {
   "cell_type": "code",
   "execution_count": 4,
   "id": "4b068782",
   "metadata": {
    "scrolled": false
   },
   "outputs": [
    {
     "name": "stdout",
     "output_type": "stream",
     "text": [
      "Reading the ES dataset....\n",
      "\n",
      "----------Summary Statistics----------\n",
      "Number of train data points: 2065\n",
      "Number of dev.in data points: 294\n",
      "\n",
      "Overview of the first 10 datapoints\n",
      "\n",
      "----------Train Data----------\n",
      "['disfrutemos', 'de', 'una', 'buenísima', 'calidad', 'en', 'el', 'producto', 'y', 'una', 'inmejorable', 'relación', 'calidad', 'precio', '.']\n",
      "['O', 'O', 'O', 'O', 'O', 'O', 'O', 'B-positive', 'O', 'O', 'O', 'O', 'O', 'O', 'O'] \n",
      "\n",
      "['Hoy', 'he', 'ido', 'a', 'comer', 'con', 'mia', 'padres', 'y', 'he', 'salido', 'muy', 'defraudado', '.']\n",
      "['O', 'O', 'O', 'O', 'O', 'O', 'O', 'O', 'O', 'O', 'O', 'O', 'O', 'O'] \n",
      "\n",
      "['A', 'mejorar', 'baños', '.']\n",
      "['O', 'O', 'B-negative', 'O'] \n",
      "\n",
      "['En', 'el', 'apartado', 'de', 'ambiente', 'todo', 'muy', 'correcto', ',', 'decoración', ',', 'música', ',', 'ambiente', ',', 'etc', '.']\n",
      "['O', 'O', 'O', 'O', 'B-positive', 'O', 'O', 'O', 'O', 'O', 'O', 'O', 'O', 'O', 'O', 'O', 'O'] \n",
      "\n",
      "['La', 'excusa', 'del', 'restaurante', 'ha', 'sido', 'que', 'el', 'dia', '1', 'de', 'enero', 'siempre', 'hay', 'mucho', 'trabajo', '.']\n",
      "['O', 'O', 'O', 'B-negative', 'O', 'O', 'O', 'O', 'O', 'O', 'O', 'O', 'O', 'O', 'O', 'O', 'O'] \n",
      "\n",
      "['Excelente', '.']\n",
      "['O', 'O'] \n",
      "\n",
      "['Así', 'lo', 'hizo', 'y', 'el', 'resultado', 'fue', 'espectacular', '.']\n",
      "['O', 'O', 'O', 'O', 'O', 'O', 'O', 'O', 'O'] \n",
      "\n",
      "['Las', 'escaleras', 'y', 'detalles', 'del', 'mobiliario', ',', 'con', 'polvo', 'y', 'desgastados', ',', 'necesitan', 'renovación', '.']\n",
      "['O', 'O', 'O', 'O', 'O', 'B-negative', 'O', 'O', 'O', 'O', 'O', 'O', 'O', 'O', 'O'] \n",
      "\n",
      "['(', 'pense', ')', '.', 'El', 'resultado', 'no', 'pudo', 'ser', 'mas', 'decepcionante', '.']\n",
      "['O', 'O', 'O', 'O', 'O', 'O', 'O', 'O', 'O', 'O', 'O', 'O'] \n",
      "\n",
      "['Postres', 'nada', 'atractivos', ',', 'la', 'misma', 'carta', 'de', 'postres', 'de', 'los', 'últimos', '15', 'años', '.']\n",
      "['B-negative', 'O', 'O', 'O', 'O', 'O', 'B-negative', 'I-negative', 'I-negative', 'O', 'O', 'O', 'O', 'O', 'O'] \n",
      "\n",
      "----------dev.in Data----------\n",
      "['La', 'comida', 'estuvo', 'muy', 'sabrosa', '.']\n",
      "['Servicio', 'esmerado', '.']\n",
      "['Para', 'un', 'menu', 'gastronomico', ',', 'si', 'la', 'comida', 'es', 'solo', 'buena', ',', 'por', 'no', 'decir', 'discreta', '(', 'en', 'lo', 'que', 'a', 'paella', 'como', 'plato', 'principal', 'se', 'refiere', ')', 'el', 'resultado', 'fue', 'algo', 'decepcionante', ',', 'aunque', 'el', 'precio', 'podria', 'considerarse', 'excepcional', '.']\n",
      "['Servicio', 'atento', 'y', 'eficiente', ',', 'ambiente', 'agradable', '.']\n",
      "['Tienen', 'una', 'carta', 'bastante', 'extensa', 'donde', 'cada', 'plato', 'parece', 'mejor', 'que', 'el', 'anterior', '.']\n",
      "['Un', '10', 'en', 'comida', 'mediterranea', '!']\n",
      "['Una', 'verguenza', 'todo', '.']\n",
      "['lo', 'tendre', 'en', 'cuenta', 'para', 'las', 'proximas', 'veces', '.']\n",
      "['Mi', 'opinión', 'sobre', 'el', 'restaurante', 'La', 'Poma', 'es', 'que', 'es', 'correcto', ',', 'pero', 'no', 'extraordinario', '.']\n",
      "['P', '.', 'D', '.']\n",
      "\n",
      "----------dev.in Label Map----------\n",
      "{'#UNK#': 0, 'I-positive': 1, 'I-negative': 2, 'B-neutral': 3, 'B-negative': 4, 'B-positive': 5, 'I-neutral': 6, 'O': 7}\n",
      "\n",
      "----------Train Data Feature Map----------\n",
      "['En', 'decía', 'Inmejorable', 'puedas', 'grandes', 'decir', 'sur', 'puedo', 'propiamente', 'cantante']\n",
      "\n",
      "----------Encoded Train Data----------\n",
      "[2486, 785, 2438, 1697, 1527, 3522, 1941, 609, 3337, 2438, 1781, 4182, 1527, 4001, 4282]\n",
      "[735, 3227, 1152, 2057, 1091, 605, 4283, 1232, 3337, 3227, 1814, 5095, 3838, 4282]\n",
      "[2070, 4429, 2628, 4282]\n",
      "[0, 1941, 611, 785, 1896, 3717, 5095, 2442, 1873, 499, 1873, 4358, 1873, 1896, 1873, 1419, 4282]\n",
      "[4092, 1901, 4410, 4047, 4795, 1248, 774, 1941, 2101, 3974, 785, 3810, 1515, 490, 5009, 3563, 4282]\n",
      "[1606, 4282]\n",
      "[3025, 5319, 5335, 3337, 1941, 2423, 5043, 183, 4282]\n",
      "[1755, 4408, 3337, 4257, 4410, 4828, 1873, 605, 3760, 3337, 685, 1873, 4845, 3842, 4282]\n",
      "[4941, 4591, 756, 4282, 1609, 2423, 1693, 4166, 5286, 3955, 4384, 4282]\n",
      "[1669, 4305, 2302, 1873, 1394, 3733, 4434, 785, 2172, 785, 687, 5225, 1425, 1439, 4282]\n",
      "\n",
      "----------Cleaned Data----------\n",
      "['La', 'comida', 'estuvo', 'muy', 'sabrosa', '.']\n",
      "['Servicio', 'esmerado', '.']\n",
      "['Para', 'un', 'menu', '#UNK#', ',', 'si', 'la', 'comida', 'es', 'solo', 'buena', ',', 'por', 'no', 'decir', '#UNK#', '(', 'en', 'lo', 'que', 'a', 'paella', 'como', 'plato', 'principal', 'se', '#UNK#', ')', 'el', 'resultado', 'fue', 'algo', 'decepcionante', ',', 'aunque', 'el', 'precio', 'podria', '#UNK#', 'excepcional', '.']\n",
      "['Servicio', 'atento', 'y', 'eficiente', ',', 'ambiente', 'agradable', '.']\n",
      "['Tienen', 'una', 'carta', 'bastante', 'extensa', 'donde', 'cada', 'plato', 'parece', 'mejor', 'que', 'el', 'anterior', '.']\n",
      "['Un', '10', 'en', 'comida', 'mediterranea', '!']\n",
      "['Una', '#UNK#', 'todo', '.']\n",
      "['lo', '#UNK#', 'en', 'cuenta', 'para', 'las', '#UNK#', 'veces', '.']\n",
      "['Mi', 'opinión', 'sobre', 'el', 'restaurante', 'La', 'Poma', 'es', 'que', 'es', 'correcto', ',', 'pero', 'no', 'extraordinario', '.']\n",
      "['P', '.', 'D', '.']\n",
      "\n",
      "----------Number of Labels in the Entire Dataset----------\n",
      "\n",
      "{'O': 31626, 'B-positive': 1273, 'B-negative': 428, 'I-negative': 228, 'I-positive': 399, 'B-neutral': 84, 'I-neutral': 43}\n"
     ]
    },
    {
     "data": {
      "image/png": "[encoded data removed]",
      "text/plain": [
       "<Figure size 432x288 with 1 Axes>"
      ]
     },
     "metadata": {
      "needs_background": "light"
     },
     "output_type": "display_data"
    }
   ],
   "source": [
    "visualiseData(DATASETS[0])"
   ]
  },
  {
   "cell_type": "code",
   "execution_count": 5,
   "id": "0eb3cdfc",
   "metadata": {},
   "outputs": [],
   "source": [
    "feat_train_ES, label_train_ES = load_data(path=f\"{DATASETS[0]}/train\")\n",
    "feat_in_ES, _ES = load_data(path=f\"{DATASETS[0]}/dev.in\")\n",
    "\n",
    "feat_train_encoded_ES, feat_map_ES = encode_token(tokens=feat_train_ES)\n",
    "label_train_encoded_ES, label_map_ES = encode_token(tokens=label_train_ES)\n",
    "\n",
    "feat_in_cleaned_ES = remove_features_in_test_and_not_in_training(\n",
    "        features_test=feat_in_ES, features_training=feat_train_ES\n",
    "    )\n",
    "feat_in_encoded_ES, _ES = encode_token(tokens=feat_in_cleaned_ES, token_map=feat_map_ES)"
   ]
  },
  {
   "cell_type": "code",
   "execution_count": 6,
   "id": "f660c35e",
   "metadata": {},
   "outputs": [
    {
     "name": "stdout",
     "output_type": "stream",
     "text": [
      "[[4092, 1465, 1765, 5095, 4696, 4282], [1550, 2520, 4282]]\n",
      "[['La', 'comida', 'estuvo', 'muy', 'sabrosa', '.'], ['Servicio', 'esmerado', '.']]\n",
      "\n",
      "[[7, 7, 7, 7, 7, 7, 7, 5, 7, 7, 7, 7, 7, 7, 7], [7, 7, 7, 7, 7, 7, 7, 7, 7, 7, 7, 7, 7, 7]]\n",
      "[['O', 'O', 'O', 'O', 'O', 'O', 'O', 'B-positive', 'O', 'O', 'O', 'O', 'O', 'O', 'O'], ['O', 'O', 'O', 'O', 'O', 'O', 'O', 'O', 'O', 'O', 'O', 'O', 'O', 'O']]\n"
     ]
    }
   ],
   "source": [
    "n = 2\n",
    "\n",
    "print(feat_in_encoded_ES[:n])\n",
    "print(feat_in_cleaned_ES[:n])\n",
    "print()\n",
    "print(label_train_encoded_ES[:n])\n",
    "print(label_train_ES[:n])"
   ]
  },
  {
   "cell_type": "markdown",
   "id": "1b70ee32",
   "metadata": {},
   "source": [
    "## RU Dataset"
   ]
  },
  {
   "cell_type": "code",
   "execution_count": 7,
   "id": "c101c5d1",
   "metadata": {
    "scrolled": false
   },
   "outputs": [
    {
     "name": "stdout",
     "output_type": "stream",
     "text": [
      "Reading the RU dataset....\n",
      "\n",
      "----------Summary Statistics----------\n",
      "Number of train data points: 3404\n",
      "Number of dev.in data points: 486\n",
      "\n",
      "Overview of the first 10 datapoints\n",
      "\n",
      "----------Train Data----------\n",
      "['А', 'жаль', '...', 'новое', 'место', 'в', 'центре', 'города', '!', '!']\n",
      "['O', 'O', 'O', 'O', 'B-positive', 'O', 'O', 'O', 'O', 'O'] \n",
      "\n",
      "['В', '-', 'третьих', ',', 'обслуживание', 'и', 'отношение', 'персонала', 'очень', 'радушное', '.']\n",
      "['O', 'O', 'O', 'O', 'B-positive', 'O', 'O', 'B-positive', 'O', 'O', 'O'] \n",
      "\n",
      "['Н', 'Начну', 'из', 'далека', ')', ')', 'года', '1,5-', '2', 'назад', 'заходила', 'в', '\"', 'дали', '\"', 'и', 'осталась', 'с', 'неоднозначными', 'впечатлениями', '(', 'то', 'ли', 'понравилось', ',', 'то', 'ли', 'нет', ')', '.']\n",
      "['O', 'O', 'O', 'O', 'O', 'O', 'O', 'O', 'O', 'O', 'O', 'O', 'O', 'O', 'O', 'O', 'O', 'O', 'O', 'O', 'O', 'O', 'O', 'O', 'O', 'O', 'O', 'O', 'O', 'O'] \n",
      "\n",
      "['В', 'общем', 'мне', 'очень', 'понравился', 'ресторан', '!']\n",
      "['O', 'O', 'O', 'O', 'O', 'B-positive', 'O'] \n",
      "\n",
      "['Это', 'место', 'знаю', 'довольно', 'давно', ',', 'наверно', 'года', 'два', '.']\n",
      "['O', 'O', 'O', 'O', 'O', 'O', 'O', 'O', 'O', 'O'] \n",
      "\n",
      "['Зал', 'большой', ',', 'мебель', 'приличная', ',', 'большой', 'телевизор', 'на', 'стене', 'удобно', 'смотреть', 'с', 'любого', 'столика', 'наверно', '.', '3', '.']\n",
      "['B-positive', 'O', 'O', 'B-neutral', 'O', 'O', 'O', 'B-positive', 'O', 'O', 'O', 'O', 'O', 'O', 'O', 'O', 'O', 'O', 'O'] \n",
      "\n",
      "['Но', ',', 'наверное', ',', 'это', 'на', 'любителя', '.']\n",
      "['O', 'O', 'O', 'O', 'O', 'O', 'O', 'O'] \n",
      "\n",
      "['В', 'целом', 'впечатление', 'очень', 'хорошее', '.']\n",
      "['O', 'O', 'O', 'O', 'O', 'O'] \n",
      "\n",
      "['После', 'этого', 'нам', 'дали', 'меню', 'ланча', '(', 'обычное', 'меню', 'видимо', 'только', 'одно', 'на', 'весь', 'ресторан', ')', '.']\n",
      "['O', 'O', 'O', 'O', 'O', 'O', 'O', 'O', 'O', 'O', 'O', 'O', 'O', 'O', 'O', 'O', 'O'] \n",
      "\n",
      "['Как-то', 'ехала', 'на', 'работу', ',', 'смотрю', 'в', 'окно', ':', 'магазины', ',', 'перекрестки', ',', 'парк', '...', 'вижу', 'вывеску', '\"', '...', 'мы', 'открылись', '!', '\"', 'или', 'что-то', 'в', 'этом', 'роде', '.']\n",
      "['O', 'O', 'O', 'O', 'O', 'O', 'O', 'O', 'O', 'O', 'O', 'O', 'O', 'O', 'O', 'O', 'O', 'O', 'O', 'O', 'O', 'O', 'O', 'O', 'O', 'O', 'O', 'O', 'O'] \n",
      "\n",
      "----------dev.in Data----------\n",
      "['И', 'что', 'очень', 'приятно', '-', 'к', 'шашлыку', 'приносят', 'тарелку', 'с', 'водой', 'и', 'лимоном', 'для', 'споласкивания', 'рук', ':', 'я', 'шашлык', 'люблю', 'есть', 'руками', '.']\n",
      "['Попробовали', 'местное', 'пиво', '–', 'понравилось', '.']\n",
      "['Возможно', 'нам', 'просто', 'попался', 'неприветливый', 'официант', ',', 'но', 'и', 'вид', 'и', 'манера', 'говорить', 'у', 'него', 'была', 'отталкивающая', '.']\n",
      "['Интерьер', 'тоже', 'поменялся', ',', 'но', 'не', 'особо', 'изменил', 'своему', 'стилю', ',', 'обслуживание', ',', 'как', 'и', 'раньше', 'осталось', 'на', 'достаточно', 'неплохом', 'уровне', ',', 'в', 'общем', 'мы', 'остались', 'довольны', ',', 'спасибо', '!']\n",
      "['Может', 'персонал', 'или', 'руководство', 'ресторанов', 'все', 'же', 'читают', 'отзывы', 'и', 'исправляются', '…', 'На', 'этом', 'сайте', 'последнее', 'время', 'часто', 'читаю', 'отзывы', ',', 'но', 'когда', 'решили', 'заехать', 'в', 'Апрель', ',', 'ничего', 'про', 'него', 'не', 'читала', '.']\n",
      "['Осталась', 'довольна', 'и', 'встречей', ',', 'и', 'сервисом', ',', 'и', 'кухней', '(', '+', 'порадовал', 'демократичный', 'порядок', 'цен', ')', '.']\n",
      "['Официанты', 'знали', 'меню', 'от', 'и', 'до', ',', 'могли', 'посоветовать', 'и', 'рассказать', 'о', 'каждом', 'блюде', 'подробную', 'информацию', ',', 'принимали', 'заказ', ',', 'не', 'записывая', 'его', ',', 'запоминали', 'абсолютно', 'все', '!']\n",
      "['Атмосфера', 'действительно', 'семейная', '.']\n",
      "['По', 'обслуживанию', ':', 'Молодо', ',', 'не', 'опытно', ':)', ',', 'но', 'весьма', 'доброжелательно', ',', 'меня', 'такое', 'обслуживание', 'устраивает', 'вполне', ',', 'большего', 'и', 'не', 'требовалось', '.']\n",
      "['Тушеное', 'мясо', '-', 'огромный', 'выбор', ',', 'и', 'салаты', 'с', 'овощами', ',', 'курицей', ',', 'мясом', 'и', 'т', '.', 'п', '.']\n",
      "\n",
      "----------dev.in Label Map----------\n",
      "{'#UNK#': 0, 'I-positive': 1, 'I-negative': 2, 'B-neutral': 3, 'B-negative': 4, 'B-positive': 5, 'I-neutral': 6, 'O': 7, '...': 8}\n",
      "\n",
      "----------Train Data Feature Map----------\n",
      "['силами', 'тарелке', 'Лунная', 'сказки', 'чувствуется', 'работниках', 'Н', 'восторга', 'Никакого', 'французском']\n",
      "\n",
      "----------Encoded Train Data----------\n",
      "[5026, 105, 5282, 2692, 6586, 5978, 7336, 1517, 588, 588]\n",
      "[1945, 5565, 8043, 2986, 4344, 469, 5918, 5044, 2110, 4422, 6702]\n",
      "[6, 1328, 4514, 5767, 1184, 1184, 2438, 2949, 808, 4592, 4979, 5978, 7856, 4054, 7856, 469, 1293, 5001, 2687, 5895, 7694, 1720, 6806, 5539, 2986, 1720, 6806, 1279, 1184, 6702]\n",
      "[1945, 7253, 6891, 2110, 1899, 7508, 588]\n",
      "[4212, 6586, 3176, 4157, 83, 2986, 6249, 2438, 4966, 6702]\n",
      "[7485, 5415, 2986, 5316, 517, 2986, 5415, 1033, 1315, 8132, 982, 4656, 5001, 2320, 3530, 6249, 6702, 335, 6702]\n",
      "[1450, 2986, 1717, 2986, 3584, 1315, 3122, 6702]\n",
      "[1945, 1815, 1810, 2110, 471, 6702]\n",
      "[1261, 2621, 5719, 4054, 259, 7867, 7694, 2370, 259, 5986, 1283, 8198, 1315, 3017, 7508, 1184, 6702]\n",
      "[7028, 3088, 1315, 7553, 2986, 1917, 5978, 159, 4688, 908, 2986, 7700, 2986, 2344, 5282, 963, 4538, 7856, 5282, 926, 8088, 588, 7856, 657, 7718, 5978, 5589, 3449, 6702]\n",
      "\n",
      "----------Cleaned Data----------\n",
      "['И', 'что', 'очень', 'приятно', '-', 'к', 'шашлыку', 'приносят', 'тарелку', 'с', '#UNK#', 'и', 'лимоном', 'для', '#UNK#', 'рук', ':', 'я', 'шашлык', 'люблю', 'есть', '#UNK#', '.']\n",
      "['#UNK#', '#UNK#', 'пиво', '–', 'понравилось', '.']\n",
      "['Возможно', 'нам', 'просто', 'попался', '#UNK#', 'официант', ',', 'но', 'и', 'вид', 'и', '#UNK#', 'говорить', 'у', 'него', 'была', '#UNK#', '.']\n",
      "['Интерьер', 'тоже', 'поменялся', ',', 'но', 'не', 'особо', '#UNK#', 'своему', '#UNK#', ',', 'обслуживание', ',', 'как', 'и', 'раньше', 'осталось', 'на', 'достаточно', 'неплохом', 'уровне', ',', 'в', 'общем', 'мы', 'остались', 'довольны', ',', 'спасибо', '!']\n",
      "['Может', 'персонал', 'или', 'руководство', 'ресторанов', 'все', 'же', '#UNK#', 'отзывы', 'и', '#UNK#', '…', 'На', 'этом', 'сайте', 'последнее', 'время', 'часто', '#UNK#', 'отзывы', ',', 'но', 'когда', 'решили', 'заехать', 'в', '#UNK#', ',', 'ничего', 'про', 'него', 'не', 'читала', '.']\n",
      "['#UNK#', 'довольна', 'и', '#UNK#', ',', 'и', 'сервисом', ',', 'и', 'кухней', '(', '+', 'порадовал', 'демократичный', 'порядок', 'цен', ')', '.']\n",
      "['Официанты', 'знали', 'меню', 'от', 'и', 'до', ',', 'могли', 'посоветовать', 'и', 'рассказать', 'о', 'каждом', 'блюде', '#UNK#', 'информацию', ',', '#UNK#', 'заказ', ',', 'не', '#UNK#', 'его', ',', '#UNK#', 'абсолютно', 'все', '!']\n",
      "['Атмосфера', 'действительно', '#UNK#', '.']\n",
      "['По', 'обслуживанию', ':', '#UNK#', ',', 'не', '#UNK#', ':)', ',', 'но', 'весьма', '#UNK#', ',', 'меня', 'такое', 'обслуживание', '#UNK#', 'вполне', ',', 'большего', 'и', 'не', '#UNK#', '.']\n",
      "['#UNK#', 'мясо', '-', 'огромный', 'выбор', ',', 'и', 'салаты', 'с', 'овощами', ',', 'курицей', ',', 'мясом', 'и', 'т', '.', '#UNK#', '.']\n",
      "\n",
      "----------Number of Labels in the Entire Dataset----------\n",
      "\n",
      "{'O': 44637, 'B-positive': 2117, 'B-neutral': 221, 'I-positive': 690, 'B-negative': 441, 'I-negative': 123, 'I-neutral': 69, '...': 1}\n"
     ]
    },
    {
     "data": {
      "image/png": "[encoded data removed]",
      "text/plain": [
       "<Figure size 432x288 with 1 Axes>"
      ]
     },
     "metadata": {
      "needs_background": "light"
     },
     "output_type": "display_data"
    }
   ],
   "source": [
    "visualiseData(DATASETS[1])"
   ]
  },
  {
   "cell_type": "code",
   "execution_count": 8,
   "id": "54a48fdc",
   "metadata": {},
   "outputs": [],
   "source": [
    "feat_train_RU, label_train_RU = load_data(path=f\"{DATASETS[1]}/train\")\n",
    "feat_in_RU, _RU = load_data(path=f\"{DATASETS[1]}/dev.in\")\n",
    "\n",
    "feat_train_encoded_RU, feat_map_RU = encode_token(tokens=feat_train_RU)\n",
    "label_train_encoded_RU, label_map_RU = encode_token(tokens=label_train_RU)\n",
    "\n",
    "feat_in_cleaned_RU = remove_features_in_test_and_not_in_training(\n",
    "        features_test=feat_in_RU, features_training=feat_train_RU\n",
    "    )\n",
    "feat_in_encoded_RU, _RU = encode_token(tokens=feat_in_cleaned_RU, token_map=feat_map_RU)"
   ]
  },
  {
   "cell_type": "code",
   "execution_count": 9,
   "id": "520fc0d0",
   "metadata": {},
   "outputs": [
    {
     "name": "stdout",
     "output_type": "stream",
     "text": [
      "[[3728, 6432, 2110, 3580, 5565, 242, 8119, 1577, 4702, 5001, 3008, 469, 434, 5765, 3008, 3803, 4688, 3520, 1584, 29, 757, 3008, 6702], [3008, 3008, 4733, 4009, 5539, 6702]]\n",
      "[['И', 'что', 'очень', 'приятно', '-', 'к', 'шашлыку', 'приносят', 'тарелку', 'с', '#UNK#', 'и', 'лимоном', 'для', '#UNK#', 'рук', ':', 'я', 'шашлык', 'люблю', 'есть', '#UNK#', '.'], ['#UNK#', '#UNK#', 'пиво', '–', 'понравилось', '.']]\n",
      "\n",
      "[[7, 7, 7, 7, 5, 7, 7, 7, 7, 7], [7, 7, 7, 7, 5, 7, 7, 5, 7, 7, 7]]\n",
      "[['O', 'O', 'O', 'O', 'B-positive', 'O', 'O', 'O', 'O', 'O'], ['O', 'O', 'O', 'O', 'B-positive', 'O', 'O', 'B-positive', 'O', 'O', 'O']]\n"
     ]
    }
   ],
   "source": [
    "n = 2\n",
    "\n",
    "print(feat_in_encoded_RU[:n])\n",
    "print(feat_in_cleaned_RU[:n])\n",
    "print()\n",
    "print(label_train_encoded_RU[:n])\n",
    "print(label_train_RU[:n])"
   ]
  },
  {
   "cell_type": "code",
   "execution_count": null,
   "id": "1bc7f81f",
   "metadata": {},
   "outputs": [],
   "source": []
  }
 ],
 "metadata": {
  "kernelspec": {
   "display_name": "Python 3",
   "language": "python",
   "name": "python3"
  },
  "language_info": {
   "codemirror_mode": {
    "name": "ipython",
    "version": 3
   },
   "file_extension": ".py",
   "mimetype": "text/x-python",
   "name": "python",
   "nbconvert_exporter": "python",
   "pygments_lexer": "ipython3",
   "version": "3.8.8"
  }
 },
 "nbformat": 4,
 "nbformat_minor": 5
}
