{
 "cells": [
  {
   "cell_type": "code",
   "execution_count": 1,
   "id": "7c466cf9",
   "metadata": {},
   "outputs": [],
   "source": [
    "ES_dataset = \"ES/\"\n",
    "RU_dataset = \"RU/\""
   ]
  },
  {
   "cell_type": "code",
   "execution_count": 2,
   "id": "fb51ea8b",
   "metadata": {},
   "outputs": [],
   "source": [
    "def readFile(directory):\n",
    "    with open(directory, encoding=\"utf8\") as f:\n",
    "        contents = f.readlines()\n",
    "        \n",
    "    return contents"
   ]
  },
  {
   "cell_type": "markdown",
   "id": "01271125",
   "metadata": {},
   "source": [
    "## ES Dataset"
   ]
  },
  {
   "cell_type": "code",
   "execution_count": 3,
   "id": "3c19a8ab",
   "metadata": {},
   "outputs": [
    {
     "data": {
      "text/plain": [
       "['La',\n",
       " 'comida',\n",
       " 'estuvo',\n",
       " 'muy',\n",
       " 'sabrosa',\n",
       " '.',\n",
       " '',\n",
       " 'Servicio',\n",
       " 'esmerado',\n",
       " '.']"
      ]
     },
     "execution_count": 3,
     "metadata": {},
     "output_type": "execute_result"
    }
   ],
   "source": [
    "ES_out = readFile(ES_dataset + 'dev.in')\n",
    "ES_out = [s.replace(\"\\n\", \"\") for s in ES_out]\n",
    "ES_out[:10]"
   ]
  },
  {
   "cell_type": "code",
   "execution_count": null,
   "id": "bef2c35a",
   "metadata": {},
   "outputs": [],
   "source": []
  }
 ],
 "metadata": {
  "kernelspec": {
   "display_name": "Python 3",
   "language": "python",
   "name": "python3"
  },
  "language_info": {
   "codemirror_mode": {
    "name": "ipython",
    "version": 3
   },
   "file_extension": ".py",
   "mimetype": "text/x-python",
   "name": "python",
   "nbconvert_exporter": "python",
   "pygments_lexer": "ipython3",
   "version": "3.8.8"
  }
 },
 "nbformat": 4,
 "nbformat_minor": 5
}
